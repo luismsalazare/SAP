{
 "cells": [
  {
   "cell_type": "markdown",
   "metadata": {},
   "source": [
    "# CRUCE SAP - RMCARE"
   ]
  },
  {
   "cell_type": "code",
   "execution_count": null,
   "metadata": {},
   "outputs": [],
   "source": [
    "import pyodbc\n",
    "import pandas as pd\n",
    "import numpy as np\n",
    "import matplotlib.pyplot as plt\n",
    "import seaborn as sns"
   ]
  },
  {
   "cell_type": "code",
   "execution_count": null,
   "metadata": {},
   "outputs": [],
   "source": []
  },
  {
   "cell_type": "code",
   "execution_count": null,
   "metadata": {},
   "outputs": [],
   "source": [
    "# QUERY \n",
    "queryVIAUFKST = \"SELECT ZRMC_4000_AVISOS.AUFNR AS OS4000, VIAUFKST.EQUNR AS EQUIPO_SAP, VIAUFKST.ERDAT AS FECHA_OS, VIAUFKST.AUFNR AS NUMERO_OS, VIAUFKST.SERIALNR AS NUMERO_SERIE, VIAUFKST.QMNUM AS NUMERO_AD ,  AFIH.ILOAN , IFLOS.STRNO AS UTSAP  FROM [SAP].[VIAUFKST]      LEFT JOIN SAP.ZRMC_4000_AVISOS       ON VIAUFKST.QMNUM=ZRMC_4000_AVISOS.QMNUM   LEFT JOIN SAP.AFIH ON VIAUFKST.AUFNR=AFIH.AUFNR    LEFT JOIN SAP.ILOA ON AFIH.ILOAN=ILOA.ILOAN  LEFT JOIN  SAP.IFLOS ON ILOA.TPLNR=IFLOS.TPLNR            WHERE AUART='ZS08'  AND VERSN='1'   ORDER BY VIAUFKST.ERDAT DESC\"\n",
    "df = pd.read_sql(queryVIAUFKST, cnxn)"
   ]
  },
  {
   "cell_type": "code",
   "execution_count": null,
   "metadata": {},
   "outputs": [],
   "source": [
    "queryCOEP = \"SELECT *  FROM [SAP].[COEP]   WHERE OBJNR LIKE 'OR000018%' AND GJAHR>2018 AND VRGNG='COIN'   OR OBJNR LIKE 'OR000018%' AND GJAHR>2018 AND VRGNG='KOAO'   ORDER BY GJAHR DESC\" \n",
    "df_coep = pd.read_sql(queryCOEP, cnxn)"
   ]
  },
  {
   "cell_type": "code",
   "execution_count": null,
   "metadata": {},
   "outputs": [],
   "source": [
    "# CAMBIO DE FORMATO DE CAMPOS\n",
    "df = df.assign(\n",
    "    EQUIPO_SAP = df[\"EQUIPO_SAP\"].astype(\"int\"),\n",
    "    NUMERO_OS = df[\"NUMERO_OS\"].astype(\"int\"),    \n",
    "    OS4000 = df[\"OS4000\"].str[3:]\n",
    "    )"
   ]
  },
  {
   "cell_type": "code",
   "execution_count": null,
   "metadata": {},
   "outputs": [],
   "source": [
    "# DESGLOSE DE UTSAP\n",
    "df[\"UBIC_TEC\"]=df[\"UTSAP\"]\n",
    "UTexpand=df['UTSAP'].str.split(\"-\", n = 5, expand = True)\n",
    "df['UTSAP']=UTexpand[0]\n",
    "df['PREMODELO']=UTexpand[1]\n",
    "df['EQUIPO']=UTexpand[2]\n",
    "df['IDCOMPONENTE']=UTexpand[4]\n",
    "df['IDPOSICION']=UTexpand[5]"
   ]
  },
  {
   "cell_type": "code",
   "execution_count": null,
   "metadata": {},
   "outputs": [],
   "source": [
    "# IMPORTAR DIMENSIONES DE NOMBRE DE FAENA Y NOMBRE DE COMPONENTE\n",
    "df2 = pd.read_csv (r'C:\\Users\\u1309260\\Desktop\\Dimensiones\\DIM_FAENA.csv',delimiter=';')\n",
    "df3 = pd.read_csv (r'C:\\Users\\u1309260\\Desktop\\Dimensiones\\DIM_COMPONENTE.csv',delimiter=',')"
   ]
  },
  {
   "cell_type": "code",
   "execution_count": null,
   "metadata": {},
   "outputs": [],
   "source": [
    "# MERGE DE FACT TABLE CON DIMENSIONES\n",
    "df= pd.merge(df,df2, left_on='UTSAP', right_on='IDUTSAP',how='left')\n",
    "df = pd.merge(df,df3, left_on='IDCOMPONENTE', right_on='IDCOMPONENTE', how='left')"
   ]
  },
  {
   "cell_type": "code",
   "execution_count": null,
   "metadata": {},
   "outputs": [],
   "source": [
    "# FILTRADO DE COLUMNAS REQUERIDAS DIMENSIONES\n",
    "df = df.loc[:, [\"OS4000\",'EQUIPO_SAP',\"NUMERO_AD\",\"NUMERO_OS\",\"FECHA_OS\",\"NUMERO_SERIE\",'IDCOMPONENTE','IDPOSICION','NOMBRE_COMPONENTE','IDRMCARE','IDSCAA','IDKOMTRAX','UBIC_TEC','NOMBRE','NOMBREZONA','LAT','LONG']]"
   ]
  },
  {
   "cell_type": "markdown",
   "metadata": {},
   "source": [
    "## COSTOS OS"
   ]
  },
  {
   "cell_type": "markdown",
   "metadata": {},
   "source": [
    "### OS DESDE 2019"
   ]
  },
  {
   "cell_type": "code",
   "execution_count": null,
   "metadata": {},
   "outputs": [],
   "source": [
    "df_coep = df_coep.iloc[:,:60]\n",
    "df_coep[\"BELNR\"] = df_coep[\"BELNR\"].astype(str)\n",
    "df_coep[\"WOGBTR\"] = df_coep[\"WOGBTR\"].astype(int)\n",
    "df_coep_un = df_coep.drop_duplicates()"
   ]
  },
  {
   "cell_type": "markdown",
   "metadata": {},
   "source": [
    "### HISTORICO"
   ]
  },
  {
   "cell_type": "code",
   "execution_count": null,
   "metadata": {},
   "outputs": [],
   "source": [
    "df_coep_h = pd.read_csv (r'C:\\Users\\u1309260\\Desktop\\Tableau\\COEP_HIST_BASE.csv',encoding='latin-1',sep=\";\")\n"
   ]
  },
  {
   "cell_type": "code",
   "execution_count": null,
   "metadata": {},
   "outputs": [],
   "source": [
    "df_coep_h[\"BELNR\"] = df_coep_h[\"BELNR\"].astype(str)"
   ]
  },
  {
   "cell_type": "code",
   "execution_count": null,
   "metadata": {},
   "outputs": [],
   "source": [
    "df_costos_os = pd.concat([df_coep_un,df_coep_h])\n",
    "df_costos_os = df_costos_os.loc[:,[\"OBJNR\",\"VRGNG\",\"WOGBTR\",\"GJAHR\",\"BELNR\"]]"
   ]
  },
  {
   "cell_type": "code",
   "execution_count": null,
   "metadata": {},
   "outputs": [],
   "source": [
    "df_costos_round = df_costos_os.assign(\n",
    "    round = round(df_costos_os.WOGBTR + 51,-2)\n",
    "\n",
    ")"
   ]
  },
  {
   "cell_type": "code",
   "execution_count": null,
   "metadata": {},
   "outputs": [],
   "source": [
    "df_costos_os = df_costos_round.drop_duplicates(subset=[\"OBJNR\",\"VRGNG\",\"BELNR\",\"round\"])"
   ]
  },
  {
   "cell_type": "code",
   "execution_count": null,
   "metadata": {},
   "outputs": [],
   "source": [
    "df_costos_os[\"NUMERO_OS\"] = df_costos_os.OBJNR.astype(str).str.lstrip(\"OR0000\").astype(int)"
   ]
  },
  {
   "cell_type": "code",
   "execution_count": null,
   "metadata": {},
   "outputs": [],
   "source": [
    "df_costos_os = df_costos_os.assign(    \n",
    "    WOGBTR = df_costos_os.WOGBTR.fillna(\"0\").astype(int)\n",
    "    )"
   ]
  },
  {
   "cell_type": "code",
   "execution_count": null,
   "metadata": {},
   "outputs": [],
   "source": [
    "df_costos_un = df_costos_os.groupby([\"NUMERO_OS\",\"VRGNG\"])[\"WOGBTR\"].sum().abs().reset_index(name=\"COSTO_REPARACION\").sort_values(\"VRGNG\",ascending=False)"
   ]
  },
  {
   "cell_type": "code",
   "execution_count": null,
   "metadata": {},
   "outputs": [],
   "source": [
    "df_costos_un = df_costos_un.drop_duplicates(subset=[\"NUMERO_OS\"],keep=\"first\")"
   ]
  },
  {
   "cell_type": "markdown",
   "metadata": {},
   "source": [
    "### MERGE OS"
   ]
  },
  {
   "cell_type": "code",
   "execution_count": null,
   "metadata": {},
   "outputs": [],
   "source": [
    "dfjoin_coep = pd.merge(df,df_costos_un,left_on=\"NUMERO_OS\",right_on=\"NUMERO_OS\",how=\"left\")"
   ]
  },
  {
   "cell_type": "code",
   "execution_count": null,
   "metadata": {},
   "outputs": [],
   "source": [
    "dfjoin_coep[\"COSTO_REPARACION\"] = dfjoin_coep[\"COSTO_REPARACION\"].astype(str)"
   ]
  },
  {
   "cell_type": "code",
   "execution_count": null,
   "metadata": {},
   "outputs": [],
   "source": [
    "dfjoin_coep.to_csv (r'C:\\Users\\u1309260\\Desktop\\Tableau\\DW_OS_4000.csv', index = None, header=1,sep=\";\")"
   ]
  },
  {
   "cell_type": "code",
   "execution_count": null,
   "metadata": {
    "tags": []
   },
   "outputs": [],
   "source": [
    "dfjoin_coep.info()"
   ]
  },
  {
   "cell_type": "markdown",
   "metadata": {},
   "source": [
    "### RMCARE"
   ]
  },
  {
   "cell_type": "code",
   "execution_count": null,
   "metadata": {},
   "outputs": [],
   "source": [
    "df4 = pd.read_excel (r'C:\\Users\\u1309260\\Desktop\\RMCare\\FACT_TIDY_PSTATUS.xlsx',delimiter=',')\n"
   ]
  },
  {
   "cell_type": "code",
   "execution_count": null,
   "metadata": {},
   "outputs": [],
   "source": [
    "df4 = df4.query(\"os_no.notnull()\")"
   ]
  },
  {
   "cell_type": "code",
   "execution_count": null,
   "metadata": {},
   "outputs": [],
   "source": [
    "df4_loc = df4.loc[:,[\"os_no\",\"PCT_COMP\",\"USO_COMP\",\"USO_EQP\",\"IDRMCARE\",\"TIPO_EQP\",\"MODELO\",\"SERIE\",\"COMP\",\"POS\",\"TBO\",\"FECHA_TIEMPO\"]]"
   ]
  },
  {
   "cell_type": "code",
   "execution_count": null,
   "metadata": {},
   "outputs": [],
   "source": [
    "dfjoin=pd.merge(\n",
    "    dfjoin_coep,df4_loc,left_on=\"NUMERO_OS\",right_on=\"os_no\",how=\"left\"\n",
    "    )"
   ]
  },
  {
   "cell_type": "code",
   "execution_count": null,
   "metadata": {},
   "outputs": [],
   "source": [
    "dfjoin = dfjoin.assign(\n",
    "    USO_COMP=dfjoin[\"USO_COMP\"].fillna(0).astype(int),\n",
    "    USO_EQP=dfjoin[\"USO_EQP\"].fillna(0).astype(int),\n",
    "    FECHA_OS=pd.to_datetime(dfjoin[\"FECHA_OS\"]),\n",
    ")"
   ]
  },
  {
   "cell_type": "code",
   "execution_count": null,
   "metadata": {},
   "outputs": [],
   "source": [
    "dfjoin = dfjoin.assign(\n",
    "    OS_YEAR=dfjoin[\"FECHA_OS\"].dt.year, OS_MES=dfjoin[\"FECHA_OS\"].dt.month\n",
    ")\n"
   ]
  },
  {
   "cell_type": "code",
   "execution_count": null,
   "metadata": {},
   "outputs": [],
   "source": [
    "dfjoin.to_csv(\n",
    "    r\"C:\\Users\\u1309260\\Desktop\\Tableau\\DW_SAP_RMC.csv\", index=None, header=1, sep=\";\"\n",
    ")\n"
   ]
  },
  {
   "cell_type": "code",
   "execution_count": null,
   "metadata": {},
   "outputs": [],
   "source": [
    "df_year = (\n",
    "    dfjoin.groupby([\"OS_YEAR\"])\n",
    "    .count()[[\"NUMERO_OS\", \"os_no\"]]\n",
    "    .sort_values(by=\"OS_YEAR\", ascending=False)\n",
    ")"
   ]
  },
  {
   "cell_type": "code",
   "execution_count": null,
   "metadata": {},
   "outputs": [],
   "source": [
    "df_year.assign(match180_osno=(df_year[\"os_no\"] / df_year[\"NUMERO_OS\"]) * 100,)"
   ]
  },
  {
   "cell_type": "code",
   "execution_count": null,
   "metadata": {},
   "outputs": [],
   "source": [
    "(\n",
    "    dfjoin.groupby([\"OS_YEAR\",\"OS_MES\"])\n",
    "    .count()[[\"NUMERO_OS\", \"os_no\"]]\n",
    "    .sort_values(by=\"OS_YEAR\", ascending=False)\n",
    ")"
   ]
  },
  {
   "cell_type": "code",
   "execution_count": null,
   "metadata": {},
   "outputs": [],
   "source": [
    "df_year.assign(match180_osno=(df_year[\"os_no\"] / df_year[\"NUMERO_OS\"]) * 100,)"
   ]
  },
  {
   "cell_type": "markdown",
   "metadata": {},
   "source": [
    "### MASTER TABLE UT SAP - SERIAL RMC"
   ]
  },
  {
   "cell_type": "code",
   "execution_count": null,
   "metadata": {},
   "outputs": [],
   "source": [
    "df_eqp = dfjoin"
   ]
  },
  {
   "cell_type": "code",
   "execution_count": null,
   "metadata": {},
   "outputs": [],
   "source": [
    "df_eqp[\"UBIC_TEC\"] = df_eqp.UBIC_TEC.str[:19]"
   ]
  },
  {
   "cell_type": "code",
   "execution_count": null,
   "metadata": {},
   "outputs": [],
   "source": [
    "df_eqp = df_eqp.loc[:, [\"UBIC_TEC\", \"IDRMCARE_y\", \"MODELO\", \"SERIE\"]]"
   ]
  },
  {
   "cell_type": "code",
   "execution_count": null,
   "metadata": {},
   "outputs": [],
   "source": [
    "df_eqp = df_eqp.query(\"MODELO.notnull()\")"
   ]
  },
  {
   "cell_type": "code",
   "execution_count": null,
   "metadata": {},
   "outputs": [],
   "source": [
    "df_eqp = df_eqp.drop_duplicates(subset=\"UBIC_TEC\", keep=\"first\").sort_values(\n",
    "    by=\"UBIC_TEC\", ascending=True\n",
    ")"
   ]
  },
  {
   "cell_type": "code",
   "execution_count": null,
   "metadata": {},
   "outputs": [],
   "source": [
    "df_eqp.query(\"UBIC_TEC == 'KRTRT-01930E2XX-837'\")"
   ]
  },
  {
   "cell_type": "code",
   "execution_count": null,
   "metadata": {},
   "outputs": [],
   "source": [
    "df_eqp.to_csv(\n",
    "    r\"C:\\Users\\u1309260\\Desktop\\Tableau\\UT_EQP.csv\", index=None, header=1, sep=\";\"\n",
    ")"
   ]
  },
  {
   "cell_type": "markdown",
   "metadata": {},
   "source": [
    "## VALIDACIONES"
   ]
  },
  {
   "cell_type": "code",
   "execution_count": null,
   "metadata": {},
   "outputs": [],
   "source": [
    "dfpruebas = dfjoin"
   ]
  },
  {
   "cell_type": "code",
   "execution_count": null,
   "metadata": {},
   "outputs": [],
   "source": [
    "dfwo = dfpruebas.query(\"IDCOMPONENTE.notnull()\")"
   ]
  },
  {
   "cell_type": "code",
   "execution_count": null,
   "metadata": {},
   "outputs": [],
   "source": [
    "dfwo.loc[:,[\"UBIC_TEC\",\"IDRMCARE\",\"NOMBRE_COMPONENTE\",\"site\",\"eqptype\",\"serial\",\"comp\",\"pst\"]]\n"
   ]
  },
  {
   "cell_type": "code",
   "execution_count": null,
   "metadata": {},
   "outputs": [],
   "source": [
    "df_o = dfwo.loc[:,[\"UBIC_TEC\",\"IDRMCARE\",\"NOMBRE_COMPONENTE\",\"site\",\"eqptype\",\"serial\",\"comp\",\"pst\"]]\n",
    "df_o = df_o.drop_duplicates(subset=['UBIC_TEC'], keep='first')\n",
    "df_notnull = df_o.query(\"site.notnull()\").sort_values(by=\"NOMBRE_COMPONENTE\",ascending=True)\n",
    "df_null = df_o.query(\"site.isnull()\").sort_values(by=\"NOMBRE_COMPONENTE\",ascending=True)"
   ]
  },
  {
   "cell_type": "code",
   "execution_count": null,
   "metadata": {},
   "outputs": [],
   "source": [
    "df_notnull.to_csv (r'C:\\Users\\u1309260\\Desktop\\Tableau\\DW_OS_4000_Prueba_notnull.csv', index = None, header=1,sep=\";\")\n",
    "df_null.to_csv (r'C:\\Users\\u1309260\\Desktop\\Tableau\\DW_OS_4000_Prueba_null.csv', index = None, header=1,sep=\";\")"
   ]
  },
  {
   "cell_type": "code",
   "execution_count": null,
   "metadata": {},
   "outputs": [],
   "source": [
    "dfpruebas.groupby([\"EQUIPO_SAP\",\"NOMBRE_COMPONENTE\"]).count()[[\"OS4000\",\"wo\"]].sort_values(by=\"OS4000\",ascending=False).head(5)"
   ]
  },
  {
   "cell_type": "code",
   "execution_count": null,
   "metadata": {},
   "outputs": [],
   "source": [
    "dfpruebas[\"OS_YEAR\"] = dfpruebas[\"FECHA_OS\"].dt.year\n",
    "dfpruebas[\"OS_MES\"] = dfpruebas[\"FECHA_OS\"].dt.month\n"
   ]
  },
  {
   "cell_type": "code",
   "execution_count": null,
   "metadata": {},
   "outputs": [],
   "source": [
    "dfañomes = dfjoin.groupby([\"OS_YEAR\",\"OS_MES\"]).count()[[\"NUMERO_OS\",\"OS4000\",\"wo\"]].sort_values(by=\"OS_YEAR\",ascending=False)"
   ]
  },
  {
   "cell_type": "code",
   "execution_count": null,
   "metadata": {},
   "outputs": [],
   "source": [
    "dfañomes.assign(\n",
    "    match180_4000 = (dfañomes[\"OS4000\"]/dfañomes[\"NUMERO_OS\"])*100,\n",
    "    match4000_wo = (dfañomes[\"wo\"]/dfañomes[\"OS4000\"])*100    \n",
    ").head(20)"
   ]
  },
  {
   "cell_type": "code",
   "execution_count": null,
   "metadata": {},
   "outputs": [],
   "source": [
    "dfaños = dfjoin.groupby([\"OS_YEAR\"]).count()[[\"NUMERO_OS\",\"OS4000\",\"wo\"]].sort_values(by=\"OS_YEAR\",ascending=False)\n"
   ]
  },
  {
   "cell_type": "code",
   "execution_count": null,
   "metadata": {},
   "outputs": [],
   "source": [
    "dfaños.assign(\n",
    "    match180_4000 = (dfaños[\"OS4000\"]/dfaños[\"NUMERO_OS\"])*100,\n",
    "    match4000_wo = (dfaños[\"wo\"]/dfaños[\"OS4000\"])*100    \n",
    ").head(20)"
   ]
  },
  {
   "cell_type": "code",
   "execution_count": null,
   "metadata": {},
   "outputs": [],
   "source": [
    "dfbars = dfjoin.query(\"IDCOMPONENTE == 'P01'\").sort_values(by=\"c_life\",ascending=False)"
   ]
  },
  {
   "cell_type": "code",
   "execution_count": null,
   "metadata": {},
   "outputs": [],
   "source": [
    "# Basic plot\n",
    "import numpy as np\n",
    "import matplotlib.pyplot as plt\n",
    "height = dfbars[\"c_life\"]\n",
    "bars = dfbars[\"IDCOMPONENTE\"]\n",
    "y_pos = np.arange(len(bars))\n",
    "plt.bar(y_pos, height)\n",
    " \n",
    "# If we have long labels, we cannot see it properly\n",
    "names = dfbars[\"NOMBRE_COMPONENTE\"]\n",
    "plt.xticks(y_pos, names, rotation=90)\n",
    " \n",
    "# Thus we have to give more margin:\n",
    "plt.subplots_adjust(bottom=0.1)\n",
    " \n",
    "# It's the same concept if you need more space for your titles\n",
    "plt.title(\"PRUEBA DE GRAFICO\")\n",
    "plt.subplots_adjust(top=1)\n",
    "\n"
   ]
  },
  {
   "cell_type": "code",
   "execution_count": null,
   "metadata": {},
   "outputs": [],
   "source": [
    "# library & dataset\n",
    "import seaborn as sns\n",
    "df = sns.load_dataset('iris')\n",
    " \n",
    "# use the function regplot to make a scatterplot\n",
    "sns.regplot(x=dfbars[\"c_life\"], y=dfbars[\"eqp_life\"])\n",
    "#sns.plt.show()\n",
    " \n",
    "# Without regression fit:\n",
    "sns.regplot(x=dfbars[\"c_life\"], y=dfbars[\"eqp_life\"], fit_reg=False)\n",
    "#sns.plt.show()\n",
    "\n",
    "\n"
   ]
  },
  {
   "cell_type": "code",
   "execution_count": null,
   "metadata": {},
   "outputs": [],
   "source": [
    "# library & dataset\n",
    "import seaborn as sns\n",
    "df = sns.load_dataset('iris')\n",
    " \n",
    "# use the function regplot to make a scatterplot\n",
    "sns.regplot(x=dfbars[\"c_life\"], y=dfbars[\"eqp_life\"])\n",
    "#sns.plt.show()\n",
    " \n",
    "# Without regression fit:\n",
    "sns.regplot(x=dfbars[\"c_life\"], y=dfbars[\"eqp_life\"], fit_reg=True)\n",
    "#sns.plt.show()"
   ]
  },
  {
   "cell_type": "code",
   "execution_count": null,
   "metadata": {},
   "outputs": [],
   "source": []
  }
 ],
 "metadata": {
  "language_info": {
   "codemirror_mode": {
    "name": "ipython",
    "version": 3
   },
   "file_extension": ".py",
   "mimetype": "text/x-python",
   "name": "python",
   "nbconvert_exporter": "python",
   "pygments_lexer": "ipython3",
   "version": "3.8.0-final"
  },
  "orig_nbformat": 2,
  "kernelspec": {
   "name": "python38032bit3ffb0abd97694fd7bc58def7fc0e7ab1",
   "display_name": "Python 3.8.0 32-bit"
  }
 },
 "nbformat": 4,
 "nbformat_minor": 2
}